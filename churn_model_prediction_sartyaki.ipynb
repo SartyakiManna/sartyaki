{
  "nbformat": 4,
  "nbformat_minor": 0,
  "metadata": {
    "colab": {
      "name": "churn_model_prediction_krish.ipynb",
      "provenance": [],
      "collapsed_sections": []
    },
    "kernelspec": {
      "name": "python3",
      "display_name": "Python 3"
    },
    "language_info": {
      "name": "python"
    }
  },
  "cells": [
    {
      "cell_type": "code",
      "metadata": {
        "id": "KM9ns9T1Tim2"
      },
      "source": [
        "import pandas as pd\n"
      ],
      "execution_count": null,
      "outputs": []
    },
    {
      "cell_type": "code",
      "metadata": {
        "id": "UR1Gf-hwUDZM"
      },
      "source": [
        "churn=pd.read_csv(\"Churn_Modelling.csv\")"
      ],
      "execution_count": null,
      "outputs": []
    },
    {
      "cell_type": "code",
      "metadata": {
        "colab": {
          "base_uri": "https://localhost:8080/",
          "height": 215
        },
        "id": "ixWuRw6PUDTc",
        "outputId": "49df4817-afe1-48bf-ce5a-7c7b0d74744c"
      },
      "source": [
        "churn.head(5)"
      ],
      "execution_count": null,
      "outputs": [
        {
          "output_type": "execute_result",
          "data": {
            "text/html": [
              "<div>\n",
              "<style scoped>\n",
              "    .dataframe tbody tr th:only-of-type {\n",
              "        vertical-align: middle;\n",
              "    }\n",
              "\n",
              "    .dataframe tbody tr th {\n",
              "        vertical-align: top;\n",
              "    }\n",
              "\n",
              "    .dataframe thead th {\n",
              "        text-align: right;\n",
              "    }\n",
              "</style>\n",
              "<table border=\"1\" class=\"dataframe\">\n",
              "  <thead>\n",
              "    <tr style=\"text-align: right;\">\n",
              "      <th></th>\n",
              "      <th>RowNumber</th>\n",
              "      <th>CustomerId</th>\n",
              "      <th>Surname</th>\n",
              "      <th>CreditScore</th>\n",
              "      <th>Geography</th>\n",
              "      <th>Gender</th>\n",
              "      <th>Age</th>\n",
              "      <th>Tenure</th>\n",
              "      <th>Balance</th>\n",
              "      <th>NumOfProducts</th>\n",
              "      <th>HasCrCard</th>\n",
              "      <th>IsActiveMember</th>\n",
              "      <th>EstimatedSalary</th>\n",
              "      <th>Exited</th>\n",
              "    </tr>\n",
              "  </thead>\n",
              "  <tbody>\n",
              "    <tr>\n",
              "      <th>0</th>\n",
              "      <td>1</td>\n",
              "      <td>15634602</td>\n",
              "      <td>Hargrave</td>\n",
              "      <td>619</td>\n",
              "      <td>France</td>\n",
              "      <td>Female</td>\n",
              "      <td>42</td>\n",
              "      <td>2</td>\n",
              "      <td>0.00</td>\n",
              "      <td>1</td>\n",
              "      <td>1</td>\n",
              "      <td>1</td>\n",
              "      <td>101348.88</td>\n",
              "      <td>1</td>\n",
              "    </tr>\n",
              "    <tr>\n",
              "      <th>1</th>\n",
              "      <td>2</td>\n",
              "      <td>15647311</td>\n",
              "      <td>Hill</td>\n",
              "      <td>608</td>\n",
              "      <td>Spain</td>\n",
              "      <td>Female</td>\n",
              "      <td>41</td>\n",
              "      <td>1</td>\n",
              "      <td>83807.86</td>\n",
              "      <td>1</td>\n",
              "      <td>0</td>\n",
              "      <td>1</td>\n",
              "      <td>112542.58</td>\n",
              "      <td>0</td>\n",
              "    </tr>\n",
              "    <tr>\n",
              "      <th>2</th>\n",
              "      <td>3</td>\n",
              "      <td>15619304</td>\n",
              "      <td>Onio</td>\n",
              "      <td>502</td>\n",
              "      <td>France</td>\n",
              "      <td>Female</td>\n",
              "      <td>42</td>\n",
              "      <td>8</td>\n",
              "      <td>159660.80</td>\n",
              "      <td>3</td>\n",
              "      <td>1</td>\n",
              "      <td>0</td>\n",
              "      <td>113931.57</td>\n",
              "      <td>1</td>\n",
              "    </tr>\n",
              "    <tr>\n",
              "      <th>3</th>\n",
              "      <td>4</td>\n",
              "      <td>15701354</td>\n",
              "      <td>Boni</td>\n",
              "      <td>699</td>\n",
              "      <td>France</td>\n",
              "      <td>Female</td>\n",
              "      <td>39</td>\n",
              "      <td>1</td>\n",
              "      <td>0.00</td>\n",
              "      <td>2</td>\n",
              "      <td>0</td>\n",
              "      <td>0</td>\n",
              "      <td>93826.63</td>\n",
              "      <td>0</td>\n",
              "    </tr>\n",
              "    <tr>\n",
              "      <th>4</th>\n",
              "      <td>5</td>\n",
              "      <td>15737888</td>\n",
              "      <td>Mitchell</td>\n",
              "      <td>850</td>\n",
              "      <td>Spain</td>\n",
              "      <td>Female</td>\n",
              "      <td>43</td>\n",
              "      <td>2</td>\n",
              "      <td>125510.82</td>\n",
              "      <td>1</td>\n",
              "      <td>1</td>\n",
              "      <td>1</td>\n",
              "      <td>79084.10</td>\n",
              "      <td>0</td>\n",
              "    </tr>\n",
              "  </tbody>\n",
              "</table>\n",
              "</div>"
            ],
            "text/plain": [
              "   RowNumber  CustomerId   Surname  ...  IsActiveMember EstimatedSalary Exited\n",
              "0          1    15634602  Hargrave  ...               1       101348.88      1\n",
              "1          2    15647311      Hill  ...               1       112542.58      0\n",
              "2          3    15619304      Onio  ...               0       113931.57      1\n",
              "3          4    15701354      Boni  ...               0        93826.63      0\n",
              "4          5    15737888  Mitchell  ...               1        79084.10      0\n",
              "\n",
              "[5 rows x 14 columns]"
            ]
          },
          "metadata": {
            "tags": []
          },
          "execution_count": 47
        }
      ]
    },
    {
      "cell_type": "code",
      "metadata": {
        "id": "VOlh-2ICUDQk"
      },
      "source": [
        "x=churn.iloc[:,3:13]\n",
        "y=churn.iloc[:,13]"
      ],
      "execution_count": null,
      "outputs": []
    },
    {
      "cell_type": "code",
      "metadata": {
        "id": "Vf-2LMzuUDNr"
      },
      "source": [
        "##create dummies\n",
        "\n",
        "gender=pd.get_dummies(x['Gender'],drop_first=True)"
      ],
      "execution_count": null,
      "outputs": []
    },
    {
      "cell_type": "code",
      "metadata": {
        "id": "U2nUuqRkUC__"
      },
      "source": [
        "x=pd.concat([x,gender],axis=1)"
      ],
      "execution_count": null,
      "outputs": []
    },
    {
      "cell_type": "code",
      "metadata": {
        "id": "pBMZRpkfUC6-"
      },
      "source": [
        "x=x.drop(['Geography','Gender'],axis=1)"
      ],
      "execution_count": null,
      "outputs": []
    },
    {
      "cell_type": "code",
      "metadata": {
        "colab": {
          "base_uri": "https://localhost:8080/",
          "height": 195
        },
        "id": "XU_70h1uwvvr",
        "outputId": "591f0607-f85c-4ded-a70b-62070ffde258"
      },
      "source": [
        "x.head(5)"
      ],
      "execution_count": null,
      "outputs": [
        {
          "output_type": "execute_result",
          "data": {
            "text/html": [
              "<div>\n",
              "<style scoped>\n",
              "    .dataframe tbody tr th:only-of-type {\n",
              "        vertical-align: middle;\n",
              "    }\n",
              "\n",
              "    .dataframe tbody tr th {\n",
              "        vertical-align: top;\n",
              "    }\n",
              "\n",
              "    .dataframe thead th {\n",
              "        text-align: right;\n",
              "    }\n",
              "</style>\n",
              "<table border=\"1\" class=\"dataframe\">\n",
              "  <thead>\n",
              "    <tr style=\"text-align: right;\">\n",
              "      <th></th>\n",
              "      <th>CreditScore</th>\n",
              "      <th>Age</th>\n",
              "      <th>Tenure</th>\n",
              "      <th>Balance</th>\n",
              "      <th>NumOfProducts</th>\n",
              "      <th>HasCrCard</th>\n",
              "      <th>IsActiveMember</th>\n",
              "      <th>EstimatedSalary</th>\n",
              "      <th>Male</th>\n",
              "    </tr>\n",
              "  </thead>\n",
              "  <tbody>\n",
              "    <tr>\n",
              "      <th>0</th>\n",
              "      <td>619</td>\n",
              "      <td>42</td>\n",
              "      <td>2</td>\n",
              "      <td>0.00</td>\n",
              "      <td>1</td>\n",
              "      <td>1</td>\n",
              "      <td>1</td>\n",
              "      <td>101348.88</td>\n",
              "      <td>0</td>\n",
              "    </tr>\n",
              "    <tr>\n",
              "      <th>1</th>\n",
              "      <td>608</td>\n",
              "      <td>41</td>\n",
              "      <td>1</td>\n",
              "      <td>83807.86</td>\n",
              "      <td>1</td>\n",
              "      <td>0</td>\n",
              "      <td>1</td>\n",
              "      <td>112542.58</td>\n",
              "      <td>0</td>\n",
              "    </tr>\n",
              "    <tr>\n",
              "      <th>2</th>\n",
              "      <td>502</td>\n",
              "      <td>42</td>\n",
              "      <td>8</td>\n",
              "      <td>159660.80</td>\n",
              "      <td>3</td>\n",
              "      <td>1</td>\n",
              "      <td>0</td>\n",
              "      <td>113931.57</td>\n",
              "      <td>0</td>\n",
              "    </tr>\n",
              "    <tr>\n",
              "      <th>3</th>\n",
              "      <td>699</td>\n",
              "      <td>39</td>\n",
              "      <td>1</td>\n",
              "      <td>0.00</td>\n",
              "      <td>2</td>\n",
              "      <td>0</td>\n",
              "      <td>0</td>\n",
              "      <td>93826.63</td>\n",
              "      <td>0</td>\n",
              "    </tr>\n",
              "    <tr>\n",
              "      <th>4</th>\n",
              "      <td>850</td>\n",
              "      <td>43</td>\n",
              "      <td>2</td>\n",
              "      <td>125510.82</td>\n",
              "      <td>1</td>\n",
              "      <td>1</td>\n",
              "      <td>1</td>\n",
              "      <td>79084.10</td>\n",
              "      <td>0</td>\n",
              "    </tr>\n",
              "  </tbody>\n",
              "</table>\n",
              "</div>"
            ],
            "text/plain": [
              "   CreditScore  Age  Tenure  ...  IsActiveMember  EstimatedSalary  Male\n",
              "0          619   42       2  ...               1        101348.88     0\n",
              "1          608   41       1  ...               1        112542.58     0\n",
              "2          502   42       8  ...               0        113931.57     0\n",
              "3          699   39       1  ...               0         93826.63     0\n",
              "4          850   43       2  ...               1         79084.10     0\n",
              "\n",
              "[5 rows x 9 columns]"
            ]
          },
          "metadata": {
            "tags": []
          },
          "execution_count": 52
        }
      ]
    },
    {
      "cell_type": "code",
      "metadata": {
        "id": "Zv-SfZfLaYuD"
      },
      "source": [
        "from sklearn.model_selection import train_test_split\n",
        "x_train,x_test,y_train,y_test=train_test_split(x,y,test_size=0.25,random_state=0)"
      ],
      "execution_count": null,
      "outputs": []
    },
    {
      "cell_type": "code",
      "metadata": {
        "id": "CCAPeLlEaYre"
      },
      "source": [
        "from sklearn.preprocessing import StandardScaler\n",
        "sc=StandardScaler()\n",
        "x_train=sc.fit_transform(x_train)\n",
        "x_test=sc.transform(x_test)"
      ],
      "execution_count": null,
      "outputs": []
    },
    {
      "cell_type": "code",
      "metadata": {
        "colab": {
          "base_uri": "https://localhost:8080/",
          "height": 195
        },
        "id": "6i60oDnCaYo-",
        "outputId": "166dbb4d-5327-4ff9-8022-9a7a9c7f48ec"
      },
      "source": [
        "x_train=pd.DataFrame(x_train)\n",
        "x_train.head(5)"
      ],
      "execution_count": null,
      "outputs": [
        {
          "output_type": "execute_result",
          "data": {
            "text/html": [
              "<div>\n",
              "<style scoped>\n",
              "    .dataframe tbody tr th:only-of-type {\n",
              "        vertical-align: middle;\n",
              "    }\n",
              "\n",
              "    .dataframe tbody tr th {\n",
              "        vertical-align: top;\n",
              "    }\n",
              "\n",
              "    .dataframe thead th {\n",
              "        text-align: right;\n",
              "    }\n",
              "</style>\n",
              "<table border=\"1\" class=\"dataframe\">\n",
              "  <thead>\n",
              "    <tr style=\"text-align: right;\">\n",
              "      <th></th>\n",
              "      <th>0</th>\n",
              "      <th>1</th>\n",
              "      <th>2</th>\n",
              "      <th>3</th>\n",
              "      <th>4</th>\n",
              "      <th>5</th>\n",
              "      <th>6</th>\n",
              "      <th>7</th>\n",
              "      <th>8</th>\n",
              "    </tr>\n",
              "  </thead>\n",
              "  <tbody>\n",
              "    <tr>\n",
              "      <th>0</th>\n",
              "      <td>-0.735507</td>\n",
              "      <td>0.015266</td>\n",
              "      <td>0.008860</td>\n",
              "      <td>0.673160</td>\n",
              "      <td>2.535034</td>\n",
              "      <td>-1.553624</td>\n",
              "      <td>-1.034460</td>\n",
              "      <td>-1.640810</td>\n",
              "      <td>-1.087261</td>\n",
              "    </tr>\n",
              "    <tr>\n",
              "      <th>1</th>\n",
              "      <td>1.024427</td>\n",
              "      <td>-0.652609</td>\n",
              "      <td>0.008860</td>\n",
              "      <td>-1.207724</td>\n",
              "      <td>0.804242</td>\n",
              "      <td>0.643657</td>\n",
              "      <td>-1.034460</td>\n",
              "      <td>-0.079272</td>\n",
              "      <td>-1.087261</td>\n",
              "    </tr>\n",
              "    <tr>\n",
              "      <th>2</th>\n",
              "      <td>0.808295</td>\n",
              "      <td>-0.461788</td>\n",
              "      <td>1.393293</td>\n",
              "      <td>-0.356937</td>\n",
              "      <td>0.804242</td>\n",
              "      <td>0.643657</td>\n",
              "      <td>0.966688</td>\n",
              "      <td>-0.996840</td>\n",
              "      <td>-1.087261</td>\n",
              "    </tr>\n",
              "    <tr>\n",
              "      <th>3</th>\n",
              "      <td>0.396614</td>\n",
              "      <td>-0.080145</td>\n",
              "      <td>0.008860</td>\n",
              "      <td>-0.009356</td>\n",
              "      <td>-0.926551</td>\n",
              "      <td>0.643657</td>\n",
              "      <td>0.966688</td>\n",
              "      <td>-1.591746</td>\n",
              "      <td>0.919743</td>\n",
              "    </tr>\n",
              "    <tr>\n",
              "      <th>4</th>\n",
              "      <td>-0.467915</td>\n",
              "      <td>1.255605</td>\n",
              "      <td>0.701077</td>\n",
              "      <td>-1.207724</td>\n",
              "      <td>0.804242</td>\n",
              "      <td>0.643657</td>\n",
              "      <td>0.966688</td>\n",
              "      <td>1.283302</td>\n",
              "      <td>0.919743</td>\n",
              "    </tr>\n",
              "  </tbody>\n",
              "</table>\n",
              "</div>"
            ],
            "text/plain": [
              "          0         1         2  ...         6         7         8\n",
              "0 -0.735507  0.015266  0.008860  ... -1.034460 -1.640810 -1.087261\n",
              "1  1.024427 -0.652609  0.008860  ... -1.034460 -0.079272 -1.087261\n",
              "2  0.808295 -0.461788  1.393293  ...  0.966688 -0.996840 -1.087261\n",
              "3  0.396614 -0.080145  0.008860  ...  0.966688 -1.591746  0.919743\n",
              "4 -0.467915  1.255605  0.701077  ...  0.966688  1.283302  0.919743\n",
              "\n",
              "[5 rows x 9 columns]"
            ]
          },
          "metadata": {
            "tags": []
          },
          "execution_count": 55
        }
      ]
    },
    {
      "cell_type": "code",
      "metadata": {
        "id": "XdLhg_z3aYmh"
      },
      "source": [
        "import numpy as np\n",
        "from tensorflow import keras\n",
        "import tensorflow as tf\n",
        "from keras.layers import Dense\n",
        "from keras.models import Sequential\n",
        "from keras.layers import Dropout\n",
        "from kerastuner.tuners import RandomSearch\n",
        "from tensorflow.keras import layers"
      ],
      "execution_count": null,
      "outputs": []
    },
    {
      "cell_type": "code",
      "metadata": {
        "colab": {
          "base_uri": "https://localhost:8080/"
        },
        "id": "whVeHQfvq22b",
        "outputId": "10dc3770-4ff1-4323-d351-b4d97923bcb9"
      },
      "source": [
        "!pip install -q -U keras-tuner"
      ],
      "execution_count": null,
      "outputs": [
        {
          "output_type": "stream",
          "text": [
            "\u001b[?25l\r\u001b[K     |█████▏                          | 10kB 26.2MB/s eta 0:00:01\r\u001b[K     |██████████▍                     | 20kB 32.6MB/s eta 0:00:01\r\u001b[K     |███████████████▋                | 30kB 26.8MB/s eta 0:00:01\r\u001b[K     |████████████████████▉           | 40kB 30.4MB/s eta 0:00:01\r\u001b[K     |██████████████████████████      | 51kB 28.5MB/s eta 0:00:01\r\u001b[K     |███████████████████████████████▎| 61kB 30.8MB/s eta 0:00:01\r\u001b[K     |████████████████████████████████| 71kB 7.5MB/s \n",
            "\u001b[?25h  Building wheel for keras-tuner (setup.py) ... \u001b[?25l\u001b[?25hdone\n",
            "  Building wheel for terminaltables (setup.py) ... \u001b[?25l\u001b[?25hdone\n"
          ],
          "name": "stdout"
        }
      ]
    },
    {
      "cell_type": "code",
      "metadata": {
        "id": "a0xJCWjHrKh6"
      },
      "source": [
        "def build_model(hp):\n",
        "    model = keras.Sequential()\n",
        "    for i in range(hp.Int('num_layers', 2, 20)):\n",
        "        model.add(layers.Dense(units=hp.Int('units_' + str(i),\n",
        "                                            min_value=32,\n",
        "                                            max_value=512,\n",
        "                                            step=128),\n",
        "                               activation='relu'))\n",
        "    model.add(layers.Dense(1, activation='sigmoid',))\n",
        "    model.compile(\n",
        "        optimizer=keras.optimizers.Adam(\n",
        "            hp.Choice('learning_rate', [1e-2, 1e-3, 1e-4])),\n",
        "        loss='binary_crossentropy',\n",
        "        metrics=['accuracy'])\n",
        "    return model"
      ],
      "execution_count": null,
      "outputs": []
    },
    {
      "cell_type": "code",
      "metadata": {
        "id": "zMJSF6wMrKe6"
      },
      "source": [
        "tuner = RandomSearch(\n",
        "    build_model,\n",
        "    objective='val_accuracy',\n",
        "    max_trials=10,\n",
        "    directory='my_dir1',\n",
        "    project_name='churn')\n",
        "\n"
      ],
      "execution_count": null,
      "outputs": []
    },
    {
      "cell_type": "code",
      "metadata": {
        "colab": {
          "base_uri": "https://localhost:8080/"
        },
        "id": "lbHp7W1krKbS",
        "outputId": "4594ac43-afa2-43c3-f1d5-231303812565"
      },
      "source": [
        "tuner.search(x_train,y_train,epochs=10,validation_data=(x_test,y_test))"
      ],
      "execution_count": null,
      "outputs": [
        {
          "output_type": "stream",
          "text": [
            "Trial 10 Complete [00h 00m 10s]\n",
            "val_accuracy: 0.8547999858856201\n",
            "\n",
            "Best val_accuracy So Far: 0.8628000020980835\n",
            "Total elapsed time: 00h 01m 38s\n",
            "INFO:tensorflow:Oracle triggered exit\n"
          ],
          "name": "stdout"
        }
      ]
    },
    {
      "cell_type": "code",
      "metadata": {
        "colab": {
          "base_uri": "https://localhost:8080/"
        },
        "id": "d4X7dYk8rKXo",
        "outputId": "7d92e2f2-ff47-4369-faef-7d1f156005aa"
      },
      "source": [
        "tuner.results_summary()"
      ],
      "execution_count": null,
      "outputs": [
        {
          "output_type": "stream",
          "text": [
            "Results summary\n",
            "Results in my_dir1/churn\n",
            "Showing 10 best trials\n",
            "Objective(name='val_accuracy', direction='max')\n",
            "Trial summary\n",
            "Hyperparameters:\n",
            "num_layers: 2\n",
            "units_0: 288\n",
            "units_1: 32\n",
            "learning_rate: 0.01\n",
            "units_2: 288\n",
            "units_3: 416\n",
            "units_4: 416\n",
            "units_5: 288\n",
            "units_6: 288\n",
            "units_7: 416\n",
            "units_8: 288\n",
            "units_9: 160\n",
            "units_10: 288\n",
            "units_11: 160\n",
            "units_12: 32\n",
            "units_13: 416\n",
            "units_14: 416\n",
            "units_15: 416\n",
            "units_16: 160\n",
            "Score: 0.8628000020980835\n",
            "Trial summary\n",
            "Hyperparameters:\n",
            "num_layers: 11\n",
            "units_0: 416\n",
            "units_1: 32\n",
            "learning_rate: 0.01\n",
            "units_2: 32\n",
            "units_3: 32\n",
            "units_4: 32\n",
            "units_5: 32\n",
            "units_6: 32\n",
            "units_7: 32\n",
            "units_8: 32\n",
            "units_9: 32\n",
            "units_10: 32\n",
            "Score: 0.8611999750137329\n",
            "Trial summary\n",
            "Hyperparameters:\n",
            "num_layers: 7\n",
            "units_0: 416\n",
            "units_1: 160\n",
            "learning_rate: 0.001\n",
            "units_2: 160\n",
            "units_3: 288\n",
            "units_4: 160\n",
            "units_5: 416\n",
            "units_6: 288\n",
            "units_7: 32\n",
            "units_8: 416\n",
            "units_9: 160\n",
            "units_10: 288\n",
            "units_11: 416\n",
            "units_12: 288\n",
            "units_13: 416\n",
            "units_14: 416\n",
            "units_15: 416\n",
            "units_16: 288\n",
            "Score: 0.8604000210762024\n",
            "Trial summary\n",
            "Hyperparameters:\n",
            "num_layers: 3\n",
            "units_0: 32\n",
            "units_1: 416\n",
            "learning_rate: 0.0001\n",
            "units_2: 160\n",
            "units_3: 416\n",
            "units_4: 160\n",
            "units_5: 160\n",
            "units_6: 416\n",
            "units_7: 160\n",
            "units_8: 288\n",
            "units_9: 416\n",
            "units_10: 160\n",
            "units_11: 416\n",
            "units_12: 160\n",
            "units_13: 416\n",
            "units_14: 160\n",
            "Score: 0.8587999939918518\n",
            "Trial summary\n",
            "Hyperparameters:\n",
            "num_layers: 6\n",
            "units_0: 288\n",
            "units_1: 288\n",
            "learning_rate: 0.001\n",
            "units_2: 288\n",
            "units_3: 288\n",
            "units_4: 288\n",
            "units_5: 160\n",
            "units_6: 160\n",
            "units_7: 288\n",
            "units_8: 32\n",
            "units_9: 160\n",
            "units_10: 160\n",
            "units_11: 160\n",
            "units_12: 416\n",
            "units_13: 416\n",
            "units_14: 416\n",
            "units_15: 416\n",
            "units_16: 160\n",
            "Score: 0.8564000129699707\n",
            "Trial summary\n",
            "Hyperparameters:\n",
            "num_layers: 12\n",
            "units_0: 32\n",
            "units_1: 32\n",
            "learning_rate: 0.0001\n",
            "units_2: 160\n",
            "units_3: 160\n",
            "units_4: 416\n",
            "units_5: 32\n",
            "units_6: 288\n",
            "units_7: 288\n",
            "units_8: 416\n",
            "units_9: 288\n",
            "units_10: 416\n",
            "units_11: 160\n",
            "units_12: 416\n",
            "units_13: 288\n",
            "units_14: 416\n",
            "units_15: 160\n",
            "units_16: 288\n",
            "Score: 0.8547999858856201\n",
            "Trial summary\n",
            "Hyperparameters:\n",
            "num_layers: 12\n",
            "units_0: 32\n",
            "units_1: 416\n",
            "learning_rate: 0.01\n",
            "units_2: 160\n",
            "units_3: 288\n",
            "units_4: 160\n",
            "units_5: 288\n",
            "units_6: 416\n",
            "units_7: 160\n",
            "units_8: 416\n",
            "units_9: 416\n",
            "units_10: 160\n",
            "units_11: 288\n",
            "units_12: 160\n",
            "units_13: 416\n",
            "units_14: 160\n",
            "units_15: 288\n",
            "units_16: 416\n",
            "Score: 0.7968000173568726\n",
            "Trial summary\n",
            "Hyperparameters:\n",
            "num_layers: 15\n",
            "units_0: 32\n",
            "units_1: 160\n",
            "learning_rate: 0.01\n",
            "units_2: 160\n",
            "units_3: 416\n",
            "units_4: 416\n",
            "units_5: 160\n",
            "units_6: 416\n",
            "units_7: 416\n",
            "units_8: 416\n",
            "units_9: 416\n",
            "units_10: 288\n",
            "units_11: 32\n",
            "units_12: 32\n",
            "units_13: 32\n",
            "units_14: 32\n",
            "Score: 0.7964000105857849\n",
            "Trial summary\n",
            "Hyperparameters:\n",
            "num_layers: 17\n",
            "units_0: 160\n",
            "units_1: 416\n",
            "learning_rate: 0.01\n",
            "units_2: 288\n",
            "units_3: 416\n",
            "units_4: 160\n",
            "units_5: 288\n",
            "units_6: 32\n",
            "units_7: 416\n",
            "units_8: 416\n",
            "units_9: 32\n",
            "units_10: 288\n",
            "units_11: 288\n",
            "units_12: 416\n",
            "units_13: 288\n",
            "units_14: 416\n",
            "units_15: 32\n",
            "units_16: 32\n",
            "Score: 0.7964000105857849\n",
            "Trial summary\n",
            "Hyperparameters:\n",
            "num_layers: 11\n",
            "units_0: 160\n",
            "units_1: 32\n",
            "learning_rate: 0.01\n",
            "units_2: 288\n",
            "units_3: 160\n",
            "units_4: 416\n",
            "units_5: 416\n",
            "units_6: 288\n",
            "units_7: 160\n",
            "units_8: 32\n",
            "units_9: 416\n",
            "units_10: 32\n",
            "units_11: 416\n",
            "units_12: 160\n",
            "units_13: 32\n",
            "units_14: 160\n",
            "units_15: 160\n",
            "units_16: 416\n",
            "Score: 0.7964000105857849\n"
          ],
          "name": "stdout"
        }
      ]
    },
    {
      "cell_type": "code",
      "metadata": {
        "id": "HS4mq_kPrKTA"
      },
      "source": [
        ""
      ],
      "execution_count": null,
      "outputs": []
    },
    {
      "cell_type": "code",
      "metadata": {
        "id": "W225RefWrKIM"
      },
      "source": [
        ""
      ],
      "execution_count": null,
      "outputs": []
    },
    {
      "cell_type": "code",
      "metadata": {
        "id": "o43mOgW6aYkK"
      },
      "source": [
        "classsifier=Sequential()"
      ],
      "execution_count": null,
      "outputs": []
    },
    {
      "cell_type": "code",
      "metadata": {
        "colab": {
          "base_uri": "https://localhost:8080/"
        },
        "id": "PSJvJOKW6YNn",
        "outputId": "3d997836-97e7-4bcb-bd74-7a4539f720a8"
      },
      "source": [
        "x_train.shape"
      ],
      "execution_count": null,
      "outputs": [
        {
          "output_type": "execute_result",
          "data": {
            "text/plain": [
              "(7500, 9)"
            ]
          },
          "metadata": {
            "tags": []
          },
          "execution_count": 64
        }
      ]
    },
    {
      "cell_type": "code",
      "metadata": {
        "id": "1iaNtkzjaYhi"
      },
      "source": [
        "model = tf.keras.models.Sequential()\n",
        "model.add(tf.keras.Input(shape=(9,)))\n",
        "model.add(tf.keras.layers.Dense(288,activation='relu',kernel_initializer='he_normal'))\n",
        "model.add(tf.keras.layers.Dense(32,activation='relu',kernel_initializer='he_normal'))\n",
        "model.add(tf.keras.layers.Dense(1,activation='sigmoid',kernel_initializer='glorot_normal'))"
      ],
      "execution_count": null,
      "outputs": []
    },
    {
      "cell_type": "code",
      "metadata": {
        "id": "HseCkg7UaYfH"
      },
      "source": [
        "model.compile(optimizer='adam',loss='binary_crossentropy',metrics=['accuracy'])"
      ],
      "execution_count": null,
      "outputs": []
    },
    {
      "cell_type": "code",
      "metadata": {
        "colab": {
          "base_uri": "https://localhost:8080/"
        },
        "id": "75O4tT2XaYcC",
        "outputId": "a7cd1862-d2b0-46b9-9fc6-38183eab3da9"
      },
      "source": [
        "model.fit(x_train,y_train,epochs=30)"
      ],
      "execution_count": null,
      "outputs": [
        {
          "output_type": "stream",
          "text": [
            "Epoch 1/30\n",
            "235/235 [==============================] - 1s 2ms/step - loss: 0.4899 - accuracy: 0.7865\n",
            "Epoch 2/30\n",
            "235/235 [==============================] - 0s 2ms/step - loss: 0.3876 - accuracy: 0.8310\n",
            "Epoch 3/30\n",
            "235/235 [==============================] - 0s 2ms/step - loss: 0.3653 - accuracy: 0.8502\n",
            "Epoch 4/30\n",
            "235/235 [==============================] - 1s 2ms/step - loss: 0.3446 - accuracy: 0.8599\n",
            "Epoch 5/30\n",
            "235/235 [==============================] - 0s 2ms/step - loss: 0.3564 - accuracy: 0.8530\n",
            "Epoch 6/30\n",
            "235/235 [==============================] - 0s 2ms/step - loss: 0.3222 - accuracy: 0.8666\n",
            "Epoch 7/30\n",
            "235/235 [==============================] - 0s 2ms/step - loss: 0.3260 - accuracy: 0.8636\n",
            "Epoch 8/30\n",
            "235/235 [==============================] - 0s 2ms/step - loss: 0.3283 - accuracy: 0.8653\n",
            "Epoch 9/30\n",
            "235/235 [==============================] - 1s 2ms/step - loss: 0.3251 - accuracy: 0.8666\n",
            "Epoch 10/30\n",
            "235/235 [==============================] - 1s 2ms/step - loss: 0.3273 - accuracy: 0.8629\n",
            "Epoch 11/30\n",
            "235/235 [==============================] - 1s 2ms/step - loss: 0.3293 - accuracy: 0.8622\n",
            "Epoch 12/30\n",
            "235/235 [==============================] - 1s 2ms/step - loss: 0.3124 - accuracy: 0.8665\n",
            "Epoch 13/30\n",
            "235/235 [==============================] - 0s 2ms/step - loss: 0.3246 - accuracy: 0.8608\n",
            "Epoch 14/30\n",
            "235/235 [==============================] - 0s 2ms/step - loss: 0.3181 - accuracy: 0.8684\n",
            "Epoch 15/30\n",
            "235/235 [==============================] - 0s 2ms/step - loss: 0.3135 - accuracy: 0.8715\n",
            "Epoch 16/30\n",
            "235/235 [==============================] - 1s 2ms/step - loss: 0.3036 - accuracy: 0.8703\n",
            "Epoch 17/30\n",
            "235/235 [==============================] - 1s 2ms/step - loss: 0.3106 - accuracy: 0.8722\n",
            "Epoch 18/30\n",
            "235/235 [==============================] - 1s 3ms/step - loss: 0.3101 - accuracy: 0.8699\n",
            "Epoch 19/30\n",
            "235/235 [==============================] - 1s 2ms/step - loss: 0.3051 - accuracy: 0.8718\n",
            "Epoch 20/30\n",
            "235/235 [==============================] - 1s 2ms/step - loss: 0.2985 - accuracy: 0.8742\n",
            "Epoch 21/30\n",
            "235/235 [==============================] - 1s 3ms/step - loss: 0.3013 - accuracy: 0.8716\n",
            "Epoch 22/30\n",
            "235/235 [==============================] - 1s 2ms/step - loss: 0.3107 - accuracy: 0.8669\n",
            "Epoch 23/30\n",
            "235/235 [==============================] - 1s 2ms/step - loss: 0.2943 - accuracy: 0.8756\n",
            "Epoch 24/30\n",
            "235/235 [==============================] - 1s 2ms/step - loss: 0.3049 - accuracy: 0.8698\n",
            "Epoch 25/30\n",
            "235/235 [==============================] - 1s 2ms/step - loss: 0.2949 - accuracy: 0.8733\n",
            "Epoch 26/30\n",
            "235/235 [==============================] - 1s 3ms/step - loss: 0.2839 - accuracy: 0.8751\n",
            "Epoch 27/30\n",
            "235/235 [==============================] - 1s 2ms/step - loss: 0.2938 - accuracy: 0.8771\n",
            "Epoch 28/30\n",
            "235/235 [==============================] - 1s 3ms/step - loss: 0.2944 - accuracy: 0.8754\n",
            "Epoch 29/30\n",
            "235/235 [==============================] - 1s 2ms/step - loss: 0.2866 - accuracy: 0.8823\n",
            "Epoch 30/30\n",
            "235/235 [==============================] - 1s 2ms/step - loss: 0.2907 - accuracy: 0.8725\n"
          ],
          "name": "stdout"
        },
        {
          "output_type": "execute_result",
          "data": {
            "text/plain": [
              "<tensorflow.python.keras.callbacks.History at 0x7f4bc019fe90>"
            ]
          },
          "metadata": {
            "tags": []
          },
          "execution_count": 70
        }
      ]
    },
    {
      "cell_type": "code",
      "metadata": {
        "colab": {
          "base_uri": "https://localhost:8080/"
        },
        "id": "d-KrvM-JaYS8",
        "outputId": "8e0d61e6-301d-467a-ecd7-0541c48ae6f1"
      },
      "source": [
        "model.evaluate(x_test,y_test)"
      ],
      "execution_count": null,
      "outputs": [
        {
          "output_type": "stream",
          "text": [
            "79/79 [==============================] - 0s 2ms/step - loss: 0.3720 - accuracy: 0.8596\n"
          ],
          "name": "stdout"
        },
        {
          "output_type": "execute_result",
          "data": {
            "text/plain": [
              "[0.3720104992389679, 0.8596000075340271]"
            ]
          },
          "metadata": {
            "tags": []
          },
          "execution_count": 71
        }
      ]
    },
    {
      "cell_type": "markdown",
      "metadata": {
        "id": "8lMbs7OVyo2M"
      },
      "source": [
        "**Here in the churn model we need to reduce FN as much as possible, so we will look not only accuracy but also FN **"
      ]
    },
    {
      "cell_type": "code",
      "metadata": {
        "id": "qhVLRKxPBEBk"
      },
      "source": [
        "y_predict=model.predict(x_test)\n",
        "y_predict=(y_predict>0.25)"
      ],
      "execution_count": null,
      "outputs": []
    },
    {
      "cell_type": "code",
      "metadata": {
        "id": "cATtMPEbBD_T"
      },
      "source": [
        "from sklearn.metrics import confusion_matrix,accuracy_score\n",
        "cm=confusion_matrix(y_test,y_predict)\n",
        "acc=accuracy_score(y_test,y_predict)"
      ],
      "execution_count": null,
      "outputs": []
    },
    {
      "cell_type": "code",
      "metadata": {
        "colab": {
          "base_uri": "https://localhost:8080/"
        },
        "id": "Zki3Rs8bpAsL",
        "outputId": "762b4a3b-bf80-4765-d19e-5f1656dee15c"
      },
      "source": [
        "cm"
      ],
      "execution_count": null,
      "outputs": [
        {
          "output_type": "execute_result",
          "data": {
            "text/plain": [
              "array([[1721,  270],\n",
              "       [ 191,  318]])"
            ]
          },
          "metadata": {
            "tags": []
          },
          "execution_count": 103
        }
      ]
    },
    {
      "cell_type": "code",
      "metadata": {
        "colab": {
          "base_uri": "https://localhost:8080/"
        },
        "id": "wsPo8TBPpApI",
        "outputId": "f6a0f758-862f-4f78-ec57-c51ad6857d00"
      },
      "source": [
        "acc"
      ],
      "execution_count": null,
      "outputs": [
        {
          "output_type": "execute_result",
          "data": {
            "text/plain": [
              "0.8156"
            ]
          },
          "metadata": {
            "tags": []
          },
          "execution_count": 104
        }
      ]
    },
    {
      "cell_type": "code",
      "metadata": {
        "id": "z-OUxAeKpAmE"
      },
      "source": [
        ""
      ],
      "execution_count": null,
      "outputs": []
    },
    {
      "cell_type": "code",
      "metadata": {
        "id": "eE6gCg26pAjI"
      },
      "source": [
        ""
      ],
      "execution_count": null,
      "outputs": []
    },
    {
      "cell_type": "code",
      "metadata": {
        "id": "-g2JO2gPpAfh"
      },
      "source": [
        ""
      ],
      "execution_count": null,
      "outputs": []
    },
    {
      "cell_type": "code",
      "metadata": {
        "id": "21hrVMGnpAcS"
      },
      "source": [
        ""
      ],
      "execution_count": null,
      "outputs": []
    },
    {
      "cell_type": "code",
      "metadata": {
        "id": "D85oULpeBD0N"
      },
      "source": [
        ""
      ],
      "execution_count": null,
      "outputs": []
    }
  ]
}